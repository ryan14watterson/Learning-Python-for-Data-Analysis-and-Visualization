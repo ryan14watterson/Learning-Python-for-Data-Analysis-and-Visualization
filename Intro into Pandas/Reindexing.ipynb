{
 "cells": [
  {
   "cell_type": "code",
   "execution_count": 1,
   "id": "093858f7",
   "metadata": {},
   "outputs": [],
   "source": [
    "import numpy as np\n",
    "from pandas import Series,DataFrame\n",
    "import pandas as pd\n",
    "\n",
    "from numpy.random import randn"
   ]
  },
  {
   "cell_type": "code",
   "execution_count": 2,
   "id": "b02330f4",
   "metadata": {},
   "outputs": [
    {
     "data": {
      "text/plain": [
       "A    1\n",
       "B    2\n",
       "C    3\n",
       "D    4\n",
       "dtype: int64"
      ]
     },
     "execution_count": 2,
     "metadata": {},
     "output_type": "execute_result"
    }
   ],
   "source": [
    "ser1 = Series([1,2,3,4],index = ['A','B','C','D'])\n",
    "\n",
    "ser1"
   ]
  },
  {
   "cell_type": "code",
   "execution_count": 4,
   "id": "c531d968",
   "metadata": {},
   "outputs": [
    {
     "data": {
      "text/plain": [
       "A    1.0\n",
       "B    2.0\n",
       "C    3.0\n",
       "D    4.0\n",
       "E    NaN\n",
       "F    NaN\n",
       "dtype: float64"
      ]
     },
     "execution_count": 4,
     "metadata": {},
     "output_type": "execute_result"
    }
   ],
   "source": [
    "ser2 = ser1.reindex(['A','B','C','D','E','F'])\n",
    "\n",
    "ser2"
   ]
  },
  {
   "cell_type": "code",
   "execution_count": 5,
   "id": "6630f088",
   "metadata": {},
   "outputs": [
    {
     "data": {
      "text/plain": [
       "A    1.0\n",
       "B    2.0\n",
       "C    3.0\n",
       "D    4.0\n",
       "E    NaN\n",
       "F    NaN\n",
       "G    0.0\n",
       "dtype: float64"
      ]
     },
     "execution_count": 5,
     "metadata": {},
     "output_type": "execute_result"
    }
   ],
   "source": [
    "ser2.reindex(['A','B','C','D','E','F','G'],fill_value=0)"
   ]
  },
  {
   "cell_type": "code",
   "execution_count": 7,
   "id": "78041d04",
   "metadata": {},
   "outputs": [
    {
     "data": {
      "text/plain": [
       "0        USA\n",
       "5     Mexico\n",
       "10    Canada\n",
       "dtype: object"
      ]
     },
     "execution_count": 7,
     "metadata": {},
     "output_type": "execute_result"
    }
   ],
   "source": [
    "ser3 = Series(['USA','Mexico','Canada'],index=[0,5,10])\n",
    "\n",
    "ser3"
   ]
  },
  {
   "cell_type": "code",
   "execution_count": 8,
   "id": "723ba7c4",
   "metadata": {},
   "outputs": [],
   "source": [
    "ranger = range(15)"
   ]
  },
  {
   "cell_type": "code",
   "execution_count": 9,
   "id": "4008152d",
   "metadata": {},
   "outputs": [
    {
     "data": {
      "text/plain": [
       "range(0, 15)"
      ]
     },
     "execution_count": 9,
     "metadata": {},
     "output_type": "execute_result"
    }
   ],
   "source": [
    "ranger"
   ]
  },
  {
   "cell_type": "code",
   "execution_count": 10,
   "id": "2230aef1",
   "metadata": {},
   "outputs": [
    {
     "data": {
      "text/plain": [
       "0        USA\n",
       "1        USA\n",
       "2        USA\n",
       "3        USA\n",
       "4        USA\n",
       "5     Mexico\n",
       "6     Mexico\n",
       "7     Mexico\n",
       "8     Mexico\n",
       "9     Mexico\n",
       "10    Canada\n",
       "11    Canada\n",
       "12    Canada\n",
       "13    Canada\n",
       "14    Canada\n",
       "dtype: object"
      ]
     },
     "execution_count": 10,
     "metadata": {},
     "output_type": "execute_result"
    }
   ],
   "source": [
    "ser3.reindex(ranger,method='ffill')"
   ]
  },
  {
   "cell_type": "code",
   "execution_count": 16,
   "id": "02dccf84",
   "metadata": {},
   "outputs": [
    {
     "data": {
      "text/html": [
       "<div>\n",
       "<style scoped>\n",
       "    .dataframe tbody tr th:only-of-type {\n",
       "        vertical-align: middle;\n",
       "    }\n",
       "\n",
       "    .dataframe tbody tr th {\n",
       "        vertical-align: top;\n",
       "    }\n",
       "\n",
       "    .dataframe thead th {\n",
       "        text-align: right;\n",
       "    }\n",
       "</style>\n",
       "<table border=\"1\" class=\"dataframe\">\n",
       "  <thead>\n",
       "    <tr style=\"text-align: right;\">\n",
       "      <th></th>\n",
       "      <th>col1</th>\n",
       "      <th>col2</th>\n",
       "      <th>col3</th>\n",
       "      <th>col4</th>\n",
       "      <th>col5</th>\n",
       "    </tr>\n",
       "  </thead>\n",
       "  <tbody>\n",
       "    <tr>\n",
       "      <th>A</th>\n",
       "      <td>0.136082</td>\n",
       "      <td>0.732784</td>\n",
       "      <td>-1.056794</td>\n",
       "      <td>0.869233</td>\n",
       "      <td>2.538623</td>\n",
       "    </tr>\n",
       "    <tr>\n",
       "      <th>B</th>\n",
       "      <td>0.087004</td>\n",
       "      <td>-0.395434</td>\n",
       "      <td>-0.775276</td>\n",
       "      <td>-0.512568</td>\n",
       "      <td>-0.001372</td>\n",
       "    </tr>\n",
       "    <tr>\n",
       "      <th>D</th>\n",
       "      <td>0.341490</td>\n",
       "      <td>-1.646242</td>\n",
       "      <td>-1.051364</td>\n",
       "      <td>0.413170</td>\n",
       "      <td>-1.306580</td>\n",
       "    </tr>\n",
       "    <tr>\n",
       "      <th>E</th>\n",
       "      <td>-1.568766</td>\n",
       "      <td>-0.429357</td>\n",
       "      <td>2.374373</td>\n",
       "      <td>1.738109</td>\n",
       "      <td>-0.923278</td>\n",
       "    </tr>\n",
       "    <tr>\n",
       "      <th>F</th>\n",
       "      <td>0.377801</td>\n",
       "      <td>0.715215</td>\n",
       "      <td>1.366310</td>\n",
       "      <td>0.094258</td>\n",
       "      <td>-0.320045</td>\n",
       "    </tr>\n",
       "  </tbody>\n",
       "</table>\n",
       "</div>"
      ],
      "text/plain": [
       "       col1      col2      col3      col4      col5\n",
       "A  0.136082  0.732784 -1.056794  0.869233  2.538623\n",
       "B  0.087004 -0.395434 -0.775276 -0.512568 -0.001372\n",
       "D  0.341490 -1.646242 -1.051364  0.413170 -1.306580\n",
       "E -1.568766 -0.429357  2.374373  1.738109 -0.923278\n",
       "F  0.377801  0.715215  1.366310  0.094258 -0.320045"
      ]
     },
     "execution_count": 16,
     "metadata": {},
     "output_type": "execute_result"
    }
   ],
   "source": [
    "dframe = DataFrame(randn(25).reshape((5,5)),index=['A','B','D','E','F'],\n",
    "                   columns=['col1','col2','col3','col4','col5'])\n",
    "\n",
    "dframe"
   ]
  },
  {
   "cell_type": "code",
   "execution_count": 17,
   "id": "9cef8c89",
   "metadata": {},
   "outputs": [],
   "source": [
    "dframe2 = dframe.reindex(['A','B','C','D','E','F'])"
   ]
  },
  {
   "cell_type": "code",
   "execution_count": 18,
   "id": "f5d86f67",
   "metadata": {},
   "outputs": [
    {
     "data": {
      "text/html": [
       "<div>\n",
       "<style scoped>\n",
       "    .dataframe tbody tr th:only-of-type {\n",
       "        vertical-align: middle;\n",
       "    }\n",
       "\n",
       "    .dataframe tbody tr th {\n",
       "        vertical-align: top;\n",
       "    }\n",
       "\n",
       "    .dataframe thead th {\n",
       "        text-align: right;\n",
       "    }\n",
       "</style>\n",
       "<table border=\"1\" class=\"dataframe\">\n",
       "  <thead>\n",
       "    <tr style=\"text-align: right;\">\n",
       "      <th></th>\n",
       "      <th>col1</th>\n",
       "      <th>col2</th>\n",
       "      <th>col3</th>\n",
       "      <th>col4</th>\n",
       "      <th>col5</th>\n",
       "    </tr>\n",
       "  </thead>\n",
       "  <tbody>\n",
       "    <tr>\n",
       "      <th>A</th>\n",
       "      <td>0.136082</td>\n",
       "      <td>0.732784</td>\n",
       "      <td>-1.056794</td>\n",
       "      <td>0.869233</td>\n",
       "      <td>2.538623</td>\n",
       "    </tr>\n",
       "    <tr>\n",
       "      <th>B</th>\n",
       "      <td>0.087004</td>\n",
       "      <td>-0.395434</td>\n",
       "      <td>-0.775276</td>\n",
       "      <td>-0.512568</td>\n",
       "      <td>-0.001372</td>\n",
       "    </tr>\n",
       "    <tr>\n",
       "      <th>C</th>\n",
       "      <td>NaN</td>\n",
       "      <td>NaN</td>\n",
       "      <td>NaN</td>\n",
       "      <td>NaN</td>\n",
       "      <td>NaN</td>\n",
       "    </tr>\n",
       "    <tr>\n",
       "      <th>D</th>\n",
       "      <td>0.341490</td>\n",
       "      <td>-1.646242</td>\n",
       "      <td>-1.051364</td>\n",
       "      <td>0.413170</td>\n",
       "      <td>-1.306580</td>\n",
       "    </tr>\n",
       "    <tr>\n",
       "      <th>E</th>\n",
       "      <td>-1.568766</td>\n",
       "      <td>-0.429357</td>\n",
       "      <td>2.374373</td>\n",
       "      <td>1.738109</td>\n",
       "      <td>-0.923278</td>\n",
       "    </tr>\n",
       "    <tr>\n",
       "      <th>F</th>\n",
       "      <td>0.377801</td>\n",
       "      <td>0.715215</td>\n",
       "      <td>1.366310</td>\n",
       "      <td>0.094258</td>\n",
       "      <td>-0.320045</td>\n",
       "    </tr>\n",
       "  </tbody>\n",
       "</table>\n",
       "</div>"
      ],
      "text/plain": [
       "       col1      col2      col3      col4      col5\n",
       "A  0.136082  0.732784 -1.056794  0.869233  2.538623\n",
       "B  0.087004 -0.395434 -0.775276 -0.512568 -0.001372\n",
       "C       NaN       NaN       NaN       NaN       NaN\n",
       "D  0.341490 -1.646242 -1.051364  0.413170 -1.306580\n",
       "E -1.568766 -0.429357  2.374373  1.738109 -0.923278\n",
       "F  0.377801  0.715215  1.366310  0.094258 -0.320045"
      ]
     },
     "execution_count": 18,
     "metadata": {},
     "output_type": "execute_result"
    }
   ],
   "source": [
    "dframe2"
   ]
  },
  {
   "cell_type": "code",
   "execution_count": 19,
   "id": "ca82d499",
   "metadata": {},
   "outputs": [],
   "source": [
    "new_columns = ['col1','col2','col3','col4','col5','col6']"
   ]
  },
  {
   "cell_type": "code",
   "execution_count": 20,
   "id": "dacfce2e",
   "metadata": {},
   "outputs": [
    {
     "data": {
      "text/html": [
       "<div>\n",
       "<style scoped>\n",
       "    .dataframe tbody tr th:only-of-type {\n",
       "        vertical-align: middle;\n",
       "    }\n",
       "\n",
       "    .dataframe tbody tr th {\n",
       "        vertical-align: top;\n",
       "    }\n",
       "\n",
       "    .dataframe thead th {\n",
       "        text-align: right;\n",
       "    }\n",
       "</style>\n",
       "<table border=\"1\" class=\"dataframe\">\n",
       "  <thead>\n",
       "    <tr style=\"text-align: right;\">\n",
       "      <th></th>\n",
       "      <th>col1</th>\n",
       "      <th>col2</th>\n",
       "      <th>col3</th>\n",
       "      <th>col4</th>\n",
       "      <th>col5</th>\n",
       "      <th>col6</th>\n",
       "    </tr>\n",
       "  </thead>\n",
       "  <tbody>\n",
       "    <tr>\n",
       "      <th>A</th>\n",
       "      <td>0.136082</td>\n",
       "      <td>0.732784</td>\n",
       "      <td>-1.056794</td>\n",
       "      <td>0.869233</td>\n",
       "      <td>2.538623</td>\n",
       "      <td>NaN</td>\n",
       "    </tr>\n",
       "    <tr>\n",
       "      <th>B</th>\n",
       "      <td>0.087004</td>\n",
       "      <td>-0.395434</td>\n",
       "      <td>-0.775276</td>\n",
       "      <td>-0.512568</td>\n",
       "      <td>-0.001372</td>\n",
       "      <td>NaN</td>\n",
       "    </tr>\n",
       "    <tr>\n",
       "      <th>C</th>\n",
       "      <td>NaN</td>\n",
       "      <td>NaN</td>\n",
       "      <td>NaN</td>\n",
       "      <td>NaN</td>\n",
       "      <td>NaN</td>\n",
       "      <td>NaN</td>\n",
       "    </tr>\n",
       "    <tr>\n",
       "      <th>D</th>\n",
       "      <td>0.341490</td>\n",
       "      <td>-1.646242</td>\n",
       "      <td>-1.051364</td>\n",
       "      <td>0.413170</td>\n",
       "      <td>-1.306580</td>\n",
       "      <td>NaN</td>\n",
       "    </tr>\n",
       "    <tr>\n",
       "      <th>E</th>\n",
       "      <td>-1.568766</td>\n",
       "      <td>-0.429357</td>\n",
       "      <td>2.374373</td>\n",
       "      <td>1.738109</td>\n",
       "      <td>-0.923278</td>\n",
       "      <td>NaN</td>\n",
       "    </tr>\n",
       "    <tr>\n",
       "      <th>F</th>\n",
       "      <td>0.377801</td>\n",
       "      <td>0.715215</td>\n",
       "      <td>1.366310</td>\n",
       "      <td>0.094258</td>\n",
       "      <td>-0.320045</td>\n",
       "      <td>NaN</td>\n",
       "    </tr>\n",
       "  </tbody>\n",
       "</table>\n",
       "</div>"
      ],
      "text/plain": [
       "       col1      col2      col3      col4      col5  col6\n",
       "A  0.136082  0.732784 -1.056794  0.869233  2.538623   NaN\n",
       "B  0.087004 -0.395434 -0.775276 -0.512568 -0.001372   NaN\n",
       "C       NaN       NaN       NaN       NaN       NaN   NaN\n",
       "D  0.341490 -1.646242 -1.051364  0.413170 -1.306580   NaN\n",
       "E -1.568766 -0.429357  2.374373  1.738109 -0.923278   NaN\n",
       "F  0.377801  0.715215  1.366310  0.094258 -0.320045   NaN"
      ]
     },
     "execution_count": 20,
     "metadata": {},
     "output_type": "execute_result"
    }
   ],
   "source": [
    "dframe2.reindex(columns=new_columns)"
   ]
  },
  {
   "cell_type": "code",
   "execution_count": 21,
   "id": "1f612fa1",
   "metadata": {},
   "outputs": [
    {
     "data": {
      "text/html": [
       "<div>\n",
       "<style scoped>\n",
       "    .dataframe tbody tr th:only-of-type {\n",
       "        vertical-align: middle;\n",
       "    }\n",
       "\n",
       "    .dataframe tbody tr th {\n",
       "        vertical-align: top;\n",
       "    }\n",
       "\n",
       "    .dataframe thead th {\n",
       "        text-align: right;\n",
       "    }\n",
       "</style>\n",
       "<table border=\"1\" class=\"dataframe\">\n",
       "  <thead>\n",
       "    <tr style=\"text-align: right;\">\n",
       "      <th></th>\n",
       "      <th>col1</th>\n",
       "      <th>col2</th>\n",
       "      <th>col3</th>\n",
       "      <th>col4</th>\n",
       "      <th>col5</th>\n",
       "    </tr>\n",
       "  </thead>\n",
       "  <tbody>\n",
       "    <tr>\n",
       "      <th>A</th>\n",
       "      <td>0.136082</td>\n",
       "      <td>0.732784</td>\n",
       "      <td>-1.056794</td>\n",
       "      <td>0.869233</td>\n",
       "      <td>2.538623</td>\n",
       "    </tr>\n",
       "    <tr>\n",
       "      <th>B</th>\n",
       "      <td>0.087004</td>\n",
       "      <td>-0.395434</td>\n",
       "      <td>-0.775276</td>\n",
       "      <td>-0.512568</td>\n",
       "      <td>-0.001372</td>\n",
       "    </tr>\n",
       "    <tr>\n",
       "      <th>D</th>\n",
       "      <td>0.341490</td>\n",
       "      <td>-1.646242</td>\n",
       "      <td>-1.051364</td>\n",
       "      <td>0.413170</td>\n",
       "      <td>-1.306580</td>\n",
       "    </tr>\n",
       "    <tr>\n",
       "      <th>E</th>\n",
       "      <td>-1.568766</td>\n",
       "      <td>-0.429357</td>\n",
       "      <td>2.374373</td>\n",
       "      <td>1.738109</td>\n",
       "      <td>-0.923278</td>\n",
       "    </tr>\n",
       "    <tr>\n",
       "      <th>F</th>\n",
       "      <td>0.377801</td>\n",
       "      <td>0.715215</td>\n",
       "      <td>1.366310</td>\n",
       "      <td>0.094258</td>\n",
       "      <td>-0.320045</td>\n",
       "    </tr>\n",
       "  </tbody>\n",
       "</table>\n",
       "</div>"
      ],
      "text/plain": [
       "       col1      col2      col3      col4      col5\n",
       "A  0.136082  0.732784 -1.056794  0.869233  2.538623\n",
       "B  0.087004 -0.395434 -0.775276 -0.512568 -0.001372\n",
       "D  0.341490 -1.646242 -1.051364  0.413170 -1.306580\n",
       "E -1.568766 -0.429357  2.374373  1.738109 -0.923278\n",
       "F  0.377801  0.715215  1.366310  0.094258 -0.320045"
      ]
     },
     "execution_count": 21,
     "metadata": {},
     "output_type": "execute_result"
    }
   ],
   "source": [
    "dframe"
   ]
  },
  {
   "cell_type": "code",
   "execution_count": null,
   "id": "d2875443",
   "metadata": {},
   "outputs": [],
   "source": []
  }
 ],
 "metadata": {
  "kernelspec": {
   "display_name": "Python 3 (ipykernel)",
   "language": "python",
   "name": "python3"
  },
  "language_info": {
   "codemirror_mode": {
    "name": "ipython",
    "version": 3
   },
   "file_extension": ".py",
   "mimetype": "text/x-python",
   "name": "python",
   "nbconvert_exporter": "python",
   "pygments_lexer": "ipython3",
   "version": "3.9.13"
  }
 },
 "nbformat": 4,
 "nbformat_minor": 5
}
