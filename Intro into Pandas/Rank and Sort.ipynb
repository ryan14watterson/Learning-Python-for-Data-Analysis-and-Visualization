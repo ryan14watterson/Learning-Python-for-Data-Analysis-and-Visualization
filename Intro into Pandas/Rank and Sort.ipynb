{
 "cells": [
  {
   "cell_type": "code",
   "execution_count": 2,
   "id": "5d7b640a",
   "metadata": {},
   "outputs": [],
   "source": [
    "import numpy as np\n",
    "import pandas as pd\n",
    "from pandas import Series,DataFrame"
   ]
  },
  {
   "cell_type": "code",
   "execution_count": 3,
   "id": "7a5d8395",
   "metadata": {},
   "outputs": [
    {
     "data": {
      "text/plain": [
       "C    0\n",
       "A    1\n",
       "B    2\n",
       "dtype: int64"
      ]
     },
     "execution_count": 3,
     "metadata": {},
     "output_type": "execute_result"
    }
   ],
   "source": [
    "ser1 = Series (range(3),index=['C','A','B'])\n",
    "\n",
    "ser1"
   ]
  },
  {
   "cell_type": "code",
   "execution_count": 4,
   "id": "575155d6",
   "metadata": {},
   "outputs": [
    {
     "data": {
      "text/plain": [
       "A    1\n",
       "B    2\n",
       "C    0\n",
       "dtype: int64"
      ]
     },
     "execution_count": 4,
     "metadata": {},
     "output_type": "execute_result"
    }
   ],
   "source": [
    "ser1.sort_index()"
   ]
  },
  {
   "cell_type": "code",
   "execution_count": 7,
   "id": "4d4bede0",
   "metadata": {},
   "outputs": [
    {
     "data": {
      "text/plain": [
       "C    0\n",
       "A    1\n",
       "B    2\n",
       "dtype: int64"
      ]
     },
     "execution_count": 7,
     "metadata": {},
     "output_type": "execute_result"
    }
   ],
   "source": [
    "#ser1.order()\n",
    "\n",
    "ser1.sort_values()"
   ]
  },
  {
   "cell_type": "code",
   "execution_count": 8,
   "id": "d671fdc9",
   "metadata": {},
   "outputs": [],
   "source": [
    "from numpy.random import randn"
   ]
  },
  {
   "cell_type": "code",
   "execution_count": 9,
   "id": "1711fb2e",
   "metadata": {},
   "outputs": [
    {
     "data": {
      "text/plain": [
       "0    0.959590\n",
       "1    0.763975\n",
       "2    0.704910\n",
       "3    0.247728\n",
       "4    0.001764\n",
       "5   -0.184093\n",
       "6   -0.203756\n",
       "7   -0.318017\n",
       "8   -0.755770\n",
       "9    1.273967\n",
       "dtype: float64"
      ]
     },
     "execution_count": 9,
     "metadata": {},
     "output_type": "execute_result"
    }
   ],
   "source": [
    "ser2 = Series(randn(10))\n",
    "\n",
    "ser2"
   ]
  },
  {
   "cell_type": "code",
   "execution_count": 14,
   "id": "a8df741c",
   "metadata": {},
   "outputs": [
    {
     "data": {
      "text/plain": [
       "8   -0.755770\n",
       "7   -0.318017\n",
       "6   -0.203756\n",
       "5   -0.184093\n",
       "4    0.001764\n",
       "3    0.247728\n",
       "2    0.704910\n",
       "1    0.763975\n",
       "0    0.959590\n",
       "9    1.273967\n",
       "dtype: float64"
      ]
     },
     "execution_count": 14,
     "metadata": {},
     "output_type": "execute_result"
    }
   ],
   "source": [
    "ser2.sort_values()"
   ]
  },
  {
   "cell_type": "code",
   "execution_count": 15,
   "id": "e0d0b0d8",
   "metadata": {},
   "outputs": [
    {
     "data": {
      "text/plain": [
       "0     9.0\n",
       "1     8.0\n",
       "2     7.0\n",
       "3     6.0\n",
       "4     5.0\n",
       "5     4.0\n",
       "6     3.0\n",
       "7     2.0\n",
       "8     1.0\n",
       "9    10.0\n",
       "dtype: float64"
      ]
     },
     "execution_count": 15,
     "metadata": {},
     "output_type": "execute_result"
    }
   ],
   "source": [
    "ser2.rank()"
   ]
  },
  {
   "cell_type": "code",
   "execution_count": 16,
   "id": "e3aecec6",
   "metadata": {},
   "outputs": [
    {
     "data": {
      "text/plain": [
       "0    0.872240\n",
       "1    0.685993\n",
       "2   -1.045822\n",
       "3   -0.042210\n",
       "4    0.075138\n",
       "5   -0.001434\n",
       "6   -0.684170\n",
       "7   -0.384737\n",
       "8   -1.573660\n",
       "9   -0.369678\n",
       "dtype: float64"
      ]
     },
     "execution_count": 16,
     "metadata": {},
     "output_type": "execute_result"
    }
   ],
   "source": [
    "ser3 = Series(randn(10))\n",
    "\n",
    "ser3"
   ]
  },
  {
   "cell_type": "code",
   "execution_count": 17,
   "id": "2890d8da",
   "metadata": {},
   "outputs": [
    {
     "data": {
      "text/plain": [
       "0    10.0\n",
       "1     9.0\n",
       "2     2.0\n",
       "3     6.0\n",
       "4     8.0\n",
       "5     7.0\n",
       "6     3.0\n",
       "7     4.0\n",
       "8     1.0\n",
       "9     5.0\n",
       "dtype: float64"
      ]
     },
     "execution_count": 17,
     "metadata": {},
     "output_type": "execute_result"
    }
   ],
   "source": [
    "ser3.rank()"
   ]
  },
  {
   "cell_type": "code",
   "execution_count": 28,
   "id": "bf805e3a",
   "metadata": {},
   "outputs": [],
   "source": [
    "ser3 = ser3.sort_values()"
   ]
  },
  {
   "cell_type": "code",
   "execution_count": 29,
   "id": "1f14d570",
   "metadata": {},
   "outputs": [
    {
     "data": {
      "text/plain": [
       "8     1.0\n",
       "2     2.0\n",
       "6     3.0\n",
       "7     4.0\n",
       "9     5.0\n",
       "3     6.0\n",
       "5     7.0\n",
       "4     8.0\n",
       "1     9.0\n",
       "0    10.0\n",
       "dtype: float64"
      ]
     },
     "execution_count": 29,
     "metadata": {},
     "output_type": "execute_result"
    }
   ],
   "source": [
    "ser3.rank()"
   ]
  },
  {
   "cell_type": "code",
   "execution_count": 30,
   "id": "e2fa853a",
   "metadata": {},
   "outputs": [],
   "source": [
    "ser3 = ser3.sort_index()"
   ]
  },
  {
   "cell_type": "code",
   "execution_count": 31,
   "id": "c33f34a8",
   "metadata": {},
   "outputs": [
    {
     "data": {
      "text/plain": [
       "0    0.872240\n",
       "1    0.685993\n",
       "2   -1.045822\n",
       "3   -0.042210\n",
       "4    0.075138\n",
       "5   -0.001434\n",
       "6   -0.684170\n",
       "7   -0.384737\n",
       "8   -1.573660\n",
       "9   -0.369678\n",
       "dtype: float64"
      ]
     },
     "execution_count": 31,
     "metadata": {},
     "output_type": "execute_result"
    }
   ],
   "source": [
    "ser3"
   ]
  },
  {
   "cell_type": "code",
   "execution_count": 32,
   "id": "b9bb6200",
   "metadata": {},
   "outputs": [
    {
     "data": {
      "text/plain": [
       "0    10.0\n",
       "1     9.0\n",
       "2     2.0\n",
       "3     6.0\n",
       "4     8.0\n",
       "5     7.0\n",
       "6     3.0\n",
       "7     4.0\n",
       "8     1.0\n",
       "9     5.0\n",
       "dtype: float64"
      ]
     },
     "execution_count": 32,
     "metadata": {},
     "output_type": "execute_result"
    }
   ],
   "source": [
    "ser3.rank()"
   ]
  },
  {
   "cell_type": "code",
   "execution_count": null,
   "id": "55be63bd",
   "metadata": {},
   "outputs": [],
   "source": []
  }
 ],
 "metadata": {
  "kernelspec": {
   "display_name": "Python 3 (ipykernel)",
   "language": "python",
   "name": "python3"
  },
  "language_info": {
   "codemirror_mode": {
    "name": "ipython",
    "version": 3
   },
   "file_extension": ".py",
   "mimetype": "text/x-python",
   "name": "python",
   "nbconvert_exporter": "python",
   "pygments_lexer": "ipython3",
   "version": "3.9.13"
  }
 },
 "nbformat": 4,
 "nbformat_minor": 5
}
